{
 "cells": [
  {
   "cell_type": "markdown",
   "id": "702e4de6-0fd6-4dba-b558-cadf83cfc6d6",
   "metadata": {},
   "source": [
    "# Load data"
   ]
  },
  {
   "cell_type": "code",
   "execution_count": null,
   "id": "91de4776-47be-4354-8924-1e8a4702a1c7",
   "metadata": {
    "tags": [],
    "vscode": {
     "languageId": "python"
    }
   },
   "outputs": [
    {
     "ename": "",
     "evalue": "",
     "output_type": "error",
     "traceback": [
      "\u001b[1;31mFailed to start the Kernel. \n",
      "\u001b[1;31mUnable to start Kernel 'Xonsh' due to a connection timeout. \n",
      "\u001b[1;31mView Jupyter <a href='command:jupyter.viewOutput'>log</a> for further details."
     ]
    }
   ],
   "source": [
    "import numpy as np"
   ]
  },
  {
   "cell_type": "code",
   "execution_count": null,
   "id": "321be273-c8c6-45ea-8656-1a471a9df2e9",
   "metadata": {
    "collapsed": true,
    "jupyter": {
     "outputs_hidden": true
    },
    "tags": [],
    "vscode": {
     "languageId": "python"
    }
   },
   "outputs": [
    {
     "ename": "",
     "evalue": "",
     "output_type": "error",
     "traceback": [
      "\u001b[1;31mFailed to start the Kernel. \n",
      "\u001b[1;31mUnable to start Kernel 'Xonsh' due to a connection timeout. \n",
      "\u001b[1;31mView Jupyter <a href='command:jupyter.viewOutput'>log</a> for further details."
     ]
    }
   ],
   "source": [
    "import json\n",
    "import pandas as pd\n",
    "\n",
    "# Работа с первым датасетом\n",
    "with open('/home/mark/Документы/kagle/case_2_reference_without_resume_sorted.json', 'r', encoding='utf-8') as file:\n",
    "    data_1 = json.load(file, )\n",
    "\n",
    "data1 = pd.json_normalize(data_1,max_level=2)\n",
    "\n",
    "education_cr=['Высшее', 'Бакалавр', 'Магистр'] # критерии наличия высшего образования\n",
    "dataset=pd.DataFrame()\n",
    "print(data1.info())\n",
    "#print(type(data1['resumes'][0][1]))\n",
    "education=[]\n",
    "uuid=[]\n",
    "average_workout=[]\n",
    "employer=[]\n",
    "work_city=[]\n",
    "work_position=[]\n",
    "work_description=[]\n",
    "language=[]\n",
    "about=[]\n",
    "key_skills=[]\n",
    "for i in range(0, len(data1['resumes'][0])):\n",
    "        print('moving to i=', i)\n",
    "        # Выделение датасета с инфой по работе\n",
    "        uuid.append(data1['resumes'][0][i]['uuid'])\n",
    "        try:\n",
    "            language.append(data1['resumes'][0][i]['languageItems'])\n",
    "        except:\n",
    "            language.append(None)\n",
    "        about.append(data1['resumes'][0][i]['about'])\n",
    "        key_skills.append(data1['resumes'][0][i]['key_skills'])\n",
    "        try:\n",
    "            data1_conf_exp=pd.json_normalize(data1['resumes'][0][i]['experienceItem'])\n",
    "            data1_conf_exp['starts']=pd.to_datetime(data1_conf_exp['starts'])\n",
    "            data1_conf_exp['ends']=pd.to_datetime(data1_conf_exp['ends'])\n",
    "            \n",
    "            data1_conf_exp['ends'] = data1_conf_exp['ends'].fillna(pd.to_datetime(\"2024-02-29 00:00:00\"))\n",
    "            \n",
    "            data1_conf_exp['duration']=(data1_conf_exp['ends']-data1_conf_exp['starts']).dt.days\n",
    "            closest_date=max(data1_conf_exp['starts'])\n",
    "            average_workout.append(data1_conf_exp['duration'].mean())\n",
    "            line=data1_conf_exp.query('starts == @closest_date')\n",
    "            text=data1_conf_exp['description'].astype(str).sum()\n",
    "            employer.append(line['employer'].values[0])\n",
    "            work_city.append(line['city'].values[0])\n",
    "            work_position.append(line['position'].values[0])\n",
    "            work_description.append(text)\n",
    "        except Exception as e:\n",
    "            print('ESCEPTION RASED:')\n",
    "            continue\n",
    "        \n",
    "        # Выделение датасета с инфой по учебе\n",
    "        try:\n",
    "            par=0\n",
    "            data1_conf_edu=pd.json_normalize(data1['resumes'][0][i]['educationItem'])\n",
    "            for elem in data1_conf_edu['education_level'].unique():\n",
    "                if elem in education_cr:\n",
    "                    education.append(1)\n",
    "                    par=1\n",
    "                    break\n",
    "            if par==0:\n",
    "                education.append(0)\n",
    "        except Exception as e:\n",
    "            print('ESCEPTION RASED (in edu extraction for confirmed resumes):')\n",
    "dataset['uuid']=pd.Series(uuid)\n",
    "dataset['education']=pd.Series(education)\n",
    "dataset['average_workout']=pd.Series(average_workout)\n",
    "dataset['employer']=pd.Series(employer)\n",
    "dataset['work_city']=pd.Series(work_city)\n",
    "dataset['work_position']=pd.Series(work_position)\n",
    "dataset['work_description']=pd.Series(work_description)\n",
    "dataset['vacancy uuid']=str(data1['vacancy.uuid'])\n",
    "dataset['vacancy name']=str(data1['vacancy.name'])\n",
    "dataset['vacancy keywords']=str(data1['vacancy.keywords'])\n",
    "dataset['vacancy description']=str(data1['vacancy.description'])\n",
    "dataset['vacancy_comment']=str(data1['vacancy.comment'])\n",
    "dataset['language']=pd.Series(language)\n",
    "dataset['about']=pd.Series(about)\n",
    "dataset['key_skills']=pd.Series(key_skills)\n",
    "dataset.info()"
   ]
  },
  {
   "cell_type": "code",
   "execution_count": null,
   "id": "ca8d9aa9-b7ea-4e68-a682-135cfed32911",
   "metadata": {
    "tags": [],
    "vscode": {
     "languageId": "python"
    }
   },
   "outputs": [
    {
     "ename": "",
     "evalue": "",
     "output_type": "error",
     "traceback": [
      "\u001b[1;31mFailed to start the Kernel. \n",
      "\u001b[1;31mUnable to start Kernel 'Xonsh' due to a connection timeout. \n",
      "\u001b[1;31mView Jupyter <a href='command:jupyter.viewOutput'>log</a> for further details."
     ]
    }
   ],
   "source": [
    "dataset[[\"employer\", \"work_position\", \"work_city\"]].iloc[:3]"
   ]
  },
  {
   "cell_type": "code",
   "execution_count": null,
   "id": "e4232069-242b-4705-8f42-dcc8d8637466",
   "metadata": {
    "tags": [],
    "vscode": {
     "languageId": "python"
    }
   },
   "outputs": [
    {
     "ename": "",
     "evalue": "",
     "output_type": "error",
     "traceback": [
      "\u001b[1;31mFailed to start the Kernel. \n",
      "\u001b[1;31mUnable to start Kernel 'Xonsh' due to a connection timeout. \n",
      "\u001b[1;31mView Jupyter <a href='command:jupyter.viewOutput'>log</a> for further details."
     ]
    }
   ],
   "source": [
    "dataset[\"work_description\"].iloc[0]"
   ]
  },
  {
   "cell_type": "markdown",
   "id": "7148e409-a237-4b58-9eaf-903b44508058",
   "metadata": {},
   "source": [
    "#### Save baseline dataset"
   ]
  },
  {
   "cell_type": "code",
   "execution_count": null,
   "id": "b06e6ddc-6289-48f8-803f-c2bc55be8898",
   "metadata": {
    "tags": [],
    "vscode": {
     "languageId": "python"
    }
   },
   "outputs": [
    {
     "ename": "",
     "evalue": "",
     "output_type": "error",
     "traceback": [
      "\u001b[1;31mFailed to start the Kernel. \n",
      "\u001b[1;31mUnable to start Kernel 'Xonsh' due to a connection timeout. \n",
      "\u001b[1;31mView Jupyter <a href='command:jupyter.viewOutput'>log</a> for further details."
     ]
    }
   ],
   "source": [
    "dataset.to_csv(\"C:\\\\Users\\\\Egor\\\\Projects\\\\Ranking_vacancy\\\\Ml_Hackaton_28-31\\\\data\\\\base_dataset.csv\", index=False)"
   ]
  },
  {
   "cell_type": "code",
   "execution_count": null,
   "id": "bf85f90f-0aee-4fd4-8c91-35e1e32a37c1",
   "metadata": {
    "tags": [],
    "vscode": {
     "languageId": "python"
    }
   },
   "outputs": [
    {
     "ename": "",
     "evalue": "",
     "output_type": "error",
     "traceback": [
      "\u001b[1;31mFailed to start the Kernel. \n",
      "\u001b[1;31mUnable to start Kernel 'Xonsh' due to a connection timeout. \n",
      "\u001b[1;31mView Jupyter <a href='command:jupyter.viewOutput'>log</a> for further details."
     ]
    }
   ],
   "source": [
    "dataset = pd.read_csv(\"C:\\\\Users\\\\Egor\\\\Projects\\\\Ranking_vacancy\\\\Ml_Hackaton_28-31\\\\data\\\\base_dataset.csv\")"
   ]
  },
  {
   "cell_type": "markdown",
   "id": "a857238b-165c-439d-8252-e454314af9b6",
   "metadata": {},
   "source": [
    "# Features processing"
   ]
  },
  {
   "cell_type": "code",
   "execution_count": null,
   "id": "3915acfb-2898-403d-b03e-aac74484dd0d",
   "metadata": {
    "tags": [],
    "vscode": {
     "languageId": "python"
    }
   },
   "outputs": [
    {
     "ename": "",
     "evalue": "",
     "output_type": "error",
     "traceback": [
      "\u001b[1;31mFailed to start the Kernel. \n",
      "\u001b[1;31mUnable to start Kernel 'Xonsh' due to a connection timeout. \n",
      "\u001b[1;31mView Jupyter <a href='command:jupyter.viewOutput'>log</a> for further details."
     ]
    }
   ],
   "source": [
    "# drop useless features\n",
    "cols_to_drop = [\"birth_date\",\"first_name\", \"last_name\", \"country\", \"city\", \"work_city\", \"experienceItem\", \"educationItem\", \"employer\"]\n",
    "dataset = dataset.loc[:, ~dataset.columns.isin(cols_to_drop)]"
   ]
  },
  {
   "cell_type": "code",
   "execution_count": null,
   "id": "1f9d93a9-5c67-42fe-a292-d7a903d5da9b",
   "metadata": {
    "tags": [],
    "vscode": {
     "languageId": "python"
    }
   },
   "outputs": [
    {
     "ename": "",
     "evalue": "",
     "output_type": "error",
     "traceback": [
      "\u001b[1;31mFailed to start the Kernel. \n",
      "\u001b[1;31mUnable to start Kernel 'Xonsh' due to a connection timeout. \n",
      "\u001b[1;31mView Jupyter <a href='command:jupyter.viewOutput'>log</a> for further details."
     ]
    }
   ],
   "source": [
    "# use last work position instead of null in about and key skills columns\n",
    "dataset[\"about\"] = dataset.apply(lambda x: x[\"work_position\"] if x[\"about\"] is None else x[\"about\"], axis=1)\n",
    "dataset[\"key_skills\"] = dataset.apply(lambda x: x[\"work_position\"] if x[\"key_skills\"] is None else x[\"key_skills\"], axis=1)"
   ]
  },
  {
   "cell_type": "code",
   "execution_count": null,
   "id": "38a48fb3-72b4-47eb-83c3-fd8c031573d4",
   "metadata": {
    "tags": [],
    "vscode": {
     "languageId": "python"
    }
   },
   "outputs": [
    {
     "ename": "",
     "evalue": "",
     "output_type": "error",
     "traceback": [
      "\u001b[1;31mFailed to start the Kernel. \n",
      "\u001b[1;31mUnable to start Kernel 'Xonsh' due to a connection timeout. \n",
      "\u001b[1;31mView Jupyter <a href='command:jupyter.viewOutput'>log</a> for further details."
     ]
    }
   ],
   "source": [
    "# fill null values of answer and education with zeros\n",
    "dataset[\"answer\"] = dataset[\"answer\"].fillna(0)\n",
    "dataset[\"education\"] = dataset[\"education\"].fillna(0)"
   ]
  },
  {
   "cell_type": "code",
   "execution_count": null,
   "id": "b588d344-3029-4cf6-850a-9e99cee97ab3",
   "metadata": {
    "tags": [],
    "vscode": {
     "languageId": "python"
    }
   },
   "outputs": [
    {
     "ename": "",
     "evalue": "",
     "output_type": "error",
     "traceback": [
      "\u001b[1;31mFailed to start the Kernel. \n",
      "\u001b[1;31mUnable to start Kernel 'Xonsh' due to a connection timeout. \n",
      "\u001b[1;31mView Jupyter <a href='command:jupyter.viewOutput'>log</a> for further details."
     ]
    }
   ],
   "source": [
    "# merge languageItem amd languageItems\n",
    "dataset[\"languages\"] = dataset.apply(lambda x: 1 if \"Английский\" in str(x[\"languageItem\"]) or \"Английский\" in str(x[\"languageItems\"]) else 0, axis=1)\n",
    "dataset = dataset.drop([\"languageItem\", \"languageItems\"], axis=1)"
   ]
  },
  {
   "cell_type": "code",
   "execution_count": null,
   "id": "7d910690-ea2c-478d-a42b-786128197d62",
   "metadata": {
    "tags": [],
    "vscode": {
     "languageId": "python"
    }
   },
   "outputs": [
    {
     "ename": "",
     "evalue": "",
     "output_type": "error",
     "traceback": [
      "\u001b[1;31mFailed to start the Kernel. \n",
      "\u001b[1;31mUnable to start Kernel 'Xonsh' due to a connection timeout. \n",
      "\u001b[1;31mView Jupyter <a href='command:jupyter.viewOutput'>log</a> for further details."
     ]
    }
   ],
   "source": [
    "dataset.to_csv(\"C:\\\\Users\\\\Egor\\\\Projects\\\\Ranking_vacancy\\\\Ml_Hackaton_28-31\\\\data\\\\df_not_embedding.csv\", index=False)"
   ]
  },
  {
   "cell_type": "code",
   "execution_count": null,
   "id": "129a0102-fe93-418a-8bf9-03f25652604e",
   "metadata": {
    "tags": [],
    "vscode": {
     "languageId": "python"
    }
   },
   "outputs": [
    {
     "ename": "",
     "evalue": "",
     "output_type": "error",
     "traceback": [
      "\u001b[1;31mFailed to start the Kernel. \n",
      "\u001b[1;31mUnable to start Kernel 'Xonsh' due to a connection timeout. \n",
      "\u001b[1;31mView Jupyter <a href='command:jupyter.viewOutput'>log</a> for further details."
     ]
    }
   ],
   "source": [
    "dataset.head()"
   ]
  },
  {
   "cell_type": "code",
   "execution_count": null,
   "id": "8135ec0a-115c-42e9-952d-7ea13f072b72",
   "metadata": {
    "vscode": {
     "languageId": "python"
    }
   },
   "outputs": [
    {
     "ename": "",
     "evalue": "",
     "output_type": "error",
     "traceback": [
      "\u001b[1;31mFailed to start the Kernel. \n",
      "\u001b[1;31mUnable to start Kernel 'Xonsh' due to a connection timeout. \n",
      "\u001b[1;31mView Jupyter <a href='command:jupyter.viewOutput'>log</a> for further details."
     ]
    }
   ],
   "source": [
    "dataset.info()"
   ]
  },
  {
   "cell_type": "code",
   "execution_count": null,
   "id": "4ff6e1ae-c887-438e-968b-9b3190212cdf",
   "metadata": {
    "tags": [],
    "vscode": {
     "languageId": "python"
    }
   },
   "outputs": [
    {
     "ename": "",
     "evalue": "",
     "output_type": "error",
     "traceback": [
      "\u001b[1;31mFailed to start the Kernel. \n",
      "\u001b[1;31mUnable to start Kernel 'Xonsh' due to a connection timeout. \n",
      "\u001b[1;31mView Jupyter <a href='command:jupyter.viewOutput'>log</a> for further details."
     ]
    }
   ],
   "source": [
    "dataset.apply(\n",
    "    lambda x: (str(x[\"about\"]) + str(x[\"key_skills\"]) + str(x[\"work_position\"]) + str(x[\"work_description\"]))[:1000], axis=1\n",
    ")"
   ]
  },
  {
   "cell_type": "code",
   "execution_count": null,
   "id": "a7f0da57-582f-4672-9740-1ef3cd89dffa",
   "metadata": {
    "vscode": {
     "languageId": "python"
    }
   },
   "outputs": [
    {
     "ename": "",
     "evalue": "",
     "output_type": "error",
     "traceback": [
      "\u001b[1;31mFailed to start the Kernel. \n",
      "\u001b[1;31mUnable to start Kernel 'Xonsh' due to a connection timeout. \n",
      "\u001b[1;31mView Jupyter <a href='command:jupyter.viewOutput'>log</a> for further details."
     ]
    }
   ],
   "source": []
  },
  {
   "cell_type": "code",
   "execution_count": null,
   "id": "c19aa9a0-e33a-48c0-bd73-cd6e5a9363b9",
   "metadata": {
    "vscode": {
     "languageId": "python"
    }
   },
   "outputs": [
    {
     "ename": "",
     "evalue": "",
     "output_type": "error",
     "traceback": [
      "\u001b[1;31mFailed to start the Kernel. \n",
      "\u001b[1;31mUnable to start Kernel 'Xonsh' due to a connection timeout. \n",
      "\u001b[1;31mView Jupyter <a href='command:jupyter.viewOutput'>log</a> for further details."
     ]
    }
   ],
   "source": []
  }
 ],
 "metadata": {
  "kernelspec": {
   "display_name": "Xonsh",
   "language": "xonsh",
   "name": "xonsh"
  },
  "language_info": {
   "codemirror_mode": {
    "name": "ipython",
    "version": 3
   },
   "file_extension": ".py",
   "mimetype": "text/x-python",
   "name": "xonsh",
   "nbconvert_exporter": "python",
   "pygments_lexer": "ipython3",
   "version": "3.9.18"
  }
 },
 "nbformat": 4,
 "nbformat_minor": 5
}
