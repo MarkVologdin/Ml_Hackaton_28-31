{
 "cells": [
  {
   "cell_type": "markdown",
   "id": "702e4de6-0fd6-4dba-b558-cadf83cfc6d6",
   "metadata": {},
   "source": [
    "# Load data"
   ]
  },
  {
   "cell_type": "code",
   "execution_count": 42,
   "id": "91de4776-47be-4354-8924-1e8a4702a1c7",
   "metadata": {
    "tags": []
   },
   "outputs": [],
   "source": [
    "import numpy as np"
   ]
  },
  {
   "cell_type": "code",
   "execution_count": 197,
   "id": "321be273-c8c6-45ea-8656-1a471a9df2e9",
   "metadata": {
    "collapsed": true,
    "jupyter": {
     "outputs_hidden": true
    },
    "tags": []
   },
   "outputs": [
    {
     "name": "stdout",
     "output_type": "stream",
     "text": [
      "ESCEPTION RASED (in edu extraction for failed resumes): 'educationItem'\n",
      "(0, 6)\n",
      "ESCEPTION RASED (in edu extraction for failed resumes): 'educationItem'\n",
      "(1, 14)\n",
      "ESCEPTION RASED (in edu extraction for failed resumes): 'educationItem'\n",
      "(2, 7)\n",
      "ESCEPTION RASED (in edu extraction for failed resumes): 'educationItem'\n",
      "(2, 8)\n",
      "ESCEPTION RASED (in edu extraction for confirmed resumes): 'educationItem'\n",
      "(3, 5)\n",
      "ESCEPTION RASED (in edu extraction for failed resumes): 'educationItem'\n",
      "(3, 10)\n",
      "ESCEPTION RASED (in edu extraction for failed resumes): 'educationItem'\n",
      "(3, 14)\n",
      "ESCEPTION RASED (in edu extraction for failed resumes): 'educationItem'\n",
      "(3, 20)\n",
      "ESCEPTION RASED (in edu extraction for failed resumes): 'educationItem'\n",
      "(4, 10)\n",
      "ESCEPTION RASED: 'experienceItem'\n",
      "(6, 3)\n",
      "ESCEPTION RASED (in edu extraction for failed resumes): 'educationItem'\n",
      "(6, 20)\n",
      "ESCEPTION RASED (in edu extraction for failed resumes): 'educationItem'\n",
      "(6, 27)\n",
      "ESCEPTION RASED (in edu extraction for failed resumes): 'educationItem'\n",
      "(6, 33)\n",
      "ESCEPTION RASED (in edu extraction for failed resumes): 'educationItem'\n",
      "(7, 3)\n",
      "ESCEPTION RASED (in edu extraction for confirmed resumes): 'educationItem'\n",
      "(9, 5)\n",
      "ESCEPTION RASED (in edu extraction for failed resumes): 'educationItem'\n",
      "(9, 1)\n",
      "ESCEPTION RASED (in edu extraction for confirmed resumes): 'educationItem'\n",
      "(10, 2)\n",
      "ESCEPTION RASED (in edu extraction for failed resumes): 'educationItem'\n",
      "(10, 3)\n",
      "ESCEPTION RASED (in edu extraction for failed resumes): 'educationItem'\n",
      "(10, 10)\n",
      "ESCEPTION RASED (in edu extraction for failed resumes): 'educationItem'\n",
      "(11, 15)\n",
      "ESCEPTION RASED (in edu extraction for failed resumes): 'educationItem'\n",
      "(13, 4)\n",
      "ESCEPTION RASED (in edu extraction for confirmed resumes): 'educationItem'\n",
      "(14, 0)\n",
      "ESCEPTION RASED (in edu extraction for confirmed resumes): 'educationItem'\n",
      "(14, 2)\n",
      "ESCEPTION RASED (in edu extraction for failed resumes): 'educationItem'\n",
      "(19, 2)\n",
      "ESCEPTION RASED (in edu extraction for failed resumes): 'educationItem'\n",
      "(20, 13)\n",
      "ESCEPTION RASED (in edu extraction for failed resumes): 'educationItem'\n",
      "(20, 14)\n",
      "ESCEPTION RASED (in edu extraction for failed resumes): 'educationItem'\n",
      "(20, 21)\n",
      "ESCEPTION RASED (in edu extraction for failed resumes): 'educationItem'\n",
      "(20, 27)\n",
      "ESCEPTION RASED (in edu extraction for confirmed resumes): 'educationItem'\n",
      "(22, 11)\n",
      "ESCEPTION RASED (in edu extraction for failed resumes): 'educationItem'\n",
      "(22, 4)\n",
      "ESCEPTION RASED (in edu extraction for failed resumes): 'educationItem'\n",
      "(22, 9)\n",
      "ESCEPTION RASED (in edu extraction for failed resumes): 'educationItem'\n",
      "(22, 14)\n",
      "ESCEPTION RASED (in edu extraction for failed resumes): 'educationItem'\n",
      "(22, 17)\n",
      "ESCEPTION RASED (in edu extraction for failed resumes): 'educationItem'\n",
      "(22, 22)\n",
      "ESCEPTION RASED (in edu extraction for failed resumes): 'educationItem'\n",
      "(22, 46)\n",
      "ESCEPTION RASED (in edu extraction for failed resumes): 'educationItem'\n",
      "(22, 47)\n",
      "ESCEPTION RASED (in edu extraction for failed resumes): 'educationItem'\n",
      "(22, 51)\n",
      "ESCEPTION RASED (in edu extraction for failed resumes): 'educationItem'\n",
      "(23, 0)\n",
      "ESCEPTION RASED (in edu extraction for confirmed resumes): 'educationItem'\n",
      "(24, 1)\n",
      "ESCEPTION RASED (in edu extraction for failed resumes): 'educationItem'\n",
      "(24, 8)\n",
      "ESCEPTION RASED (in edu extraction for failed resumes): 'educationItem'\n",
      "(24, 15)\n",
      "ESCEPTION RASED (in edu extraction for failed resumes): 'educationItem'\n",
      "(25, 9)\n",
      "ESCEPTION RASED (in edu extraction for failed resumes): 'educationItem'\n",
      "(26, 2)\n",
      "ESCEPTION RASED (in edu extraction for failed resumes): 'educationItem'\n",
      "(26, 9)\n",
      "ESCEPTION RASED (in edu extraction for failed resumes): 'educationItem'\n",
      "(26, 33)\n",
      "ESCEPTION RASED (in edu extraction for failed resumes): 'educationItem'\n",
      "(26, 42)\n",
      "ESCEPTION RASED (in edu extraction for failed resumes): 'educationItem'\n",
      "(26, 49)\n",
      "ESCEPTION RASED (in edu extraction for confirmed resumes): 'educationItem'\n",
      "(27, 1)\n",
      "ESCEPTION RASED (in edu extraction for confirmed resumes): 'educationItem'\n",
      "(27, 5)\n",
      "ESCEPTION RASED (in edu extraction for failed resumes): 'educationItem'\n",
      "(28, 1)\n",
      "ESCEPTION RASED (in edu extraction for failed resumes): 'educationItem'\n",
      "(28, 4)\n"
     ]
    }
   ],
   "source": [
    "import json\n",
    "import pandas as pd\n",
    "\n",
    "# Работа с первым датасетом\n",
    "with open('C:\\\\Users\\\\Egor\\\\Projects\\\\Ranking_vacancy\\\\Ml_Hackaton_28-31\\\\case_2_data_for_members.json', 'r', encoding='utf-8') as file:\n",
    "    data_1 = json.load(file, )\n",
    "\n",
    "data1 = pd.json_normalize(data_1,max_level=2)\n",
    "\n",
    "education_cr=['Высшее', 'Бакалавр', 'Магистр'] # критерии наличия высшего образования\n",
    "dataset=[]\n",
    "for j in range(0, data1.shape[0]):\n",
    "    data1_conf=pd.json_normalize(data_1[j]['confirmed_resumes'])\n",
    "    \n",
    "    data1_conf['answer']=1\n",
    "    data1_conf['vacancy_uuid']=data_1[j]['vacancy']['uuid']\n",
    "    data1_conf['vacancy_name']=data_1[j]['vacancy']['name']\n",
    "    data1_conf['vacancy_description']=data_1[j]['vacancy']['description']\n",
    "    data1_conf['vacancy_comment']=data_1[j]['vacancy']['comment']\n",
    "    \n",
    "    education=[]\n",
    "    average_workout=[]\n",
    "    employer=[]\n",
    "    work_city=[]\n",
    "    work_position=[]\n",
    "    work_description=[]\n",
    "    for i in range(0, data1_conf.shape[0]):\n",
    "        \n",
    "        # Выделение датасета с инфой по работе\n",
    "        try:\n",
    "            data1_conf_exp=pd.json_normalize(data_1[j]['confirmed_resumes'][i]['experienceItem'])\n",
    "            data1_conf_exp['starts']=pd.to_datetime(data1_conf_exp['starts'])\n",
    "            data1_conf_exp['ends']=pd.to_datetime(data1_conf_exp['ends'])\n",
    "            \n",
    "            data1_conf_exp['ends'] = data1_conf_exp['ends'].fillna(pd.to_datetime(\"2024-02-29 00:00:00\"))\n",
    "            \n",
    "            data1_conf_exp['duration']=(data1_conf_exp['ends']-data1_conf_exp['starts']).dt.days\n",
    "            closest_date=max(data1_conf_exp['starts'])\n",
    "            average_workout.append(data1_conf_exp['duration'].mean())\n",
    "            line=data1_conf_exp.query('starts == @closest_date')\n",
    "            text=data1_conf_exp['description'].astype(str).sum()\n",
    "            employer.append(line['employer'].values[0])\n",
    "            work_city.append(line['city'].values[0])\n",
    "            work_position.append(line['position'].values[0])\n",
    "            work_description.append(text)\n",
    "        except Exception as e:\n",
    "            print(f'ESCEPTION RASED: {e}')\n",
    "            print(f'{(j, i)}')\n",
    "            continue\n",
    "        \n",
    "        # Выделение датасета с инфой по учебе\n",
    "        try:\n",
    "            par=0\n",
    "            data1_conf_edu=pd.json_normalize(data_1[j]['confirmed_resumes'][i]['educationItem'])\n",
    "            for elem in data1_conf_edu['education_level'].unique():\n",
    "                if elem in education_cr:\n",
    "                    education.append(1)\n",
    "                    par=1\n",
    "                    break\n",
    "            if par==0:\n",
    "                education.append(0)\n",
    "        except Exception as e:\n",
    "            print(f'ESCEPTION RASED (in edu extraction for confirmed resumes): {e}')\n",
    "            print(f'{(j, i)}')\n",
    "            \n",
    "    data1_conf['education']=pd.Series(education)\n",
    "    data1_conf['average_workout']=pd.Series(average_workout)\n",
    "    data1_conf['employer']=pd.Series(employer)\n",
    "    data1_conf['work_city']=pd.Series(work_city)\n",
    "    data1_conf['work_position']=pd.Series(work_position)\n",
    "    data1_conf['work_description']=pd.Series(work_description)\n",
    "    dataset.append(data1_conf)\n",
    "    \n",
    "    # обработка вакансий которые получили отрицательный ответ\n",
    "    \n",
    "    data1_fail=pd.json_normalize(data_1[j]['failed_resumes'])\n",
    "    data1_fail['answer']=0\n",
    "    data1_fail['vacancy_uuid']=data_1[j]['vacancy']['uuid']\n",
    "    data1_fail['vacancy_name']=data_1[j]['vacancy']['name']\n",
    "    data1_fail['vacancy_description']=data_1[j]['vacancy']['description']\n",
    "    data1_fail['vacancy_comment']=data_1[j]['vacancy']['comment']\n",
    "    education=[]\n",
    "    average_workout=[]\n",
    "    employer=[]\n",
    "    work_city=[]\n",
    "    work_position=[]\n",
    "    work_description=[]\n",
    "    for i in range(0, data1_fail.shape[0]):\n",
    "        \n",
    "        # Выделение датасета с инфой по работе\n",
    "        try:\n",
    "            data1_fail_exp=pd.json_normalize(data_1[j]['failed_resumes'][i]['experienceItem'])\n",
    "            data1_fail_exp['starts']=pd.to_datetime(data1_fail_exp['starts'])\n",
    "            data1_fail_exp['ends']=pd.to_datetime(data1_fail_exp['ends'])\n",
    "            \n",
    "            data1_fail_exp['ends'] = data1_fail_exp['ends'].fillna(pd.to_datetime(\"2024-02-29 00:00:00\"))\n",
    "            \n",
    "            data1_fail_exp['duration']=(data1_fail_exp['ends']-data1_fail_exp['starts']).dt.days #.astype('timedelta64[h]')\n",
    "            closest_date=max(data1_fail_exp['starts'])\n",
    "            average_workout.append(data1_fail_exp['duration'].mean())\n",
    "            line=data1_fail_exp.query('starts == @closest_date')\n",
    "            text=data1_fail_exp['description'].astype(str).sum()\n",
    "            employer.append(line['employer'].values[0])\n",
    "            work_city.append(line['city'].values[0])\n",
    "            work_position.append(line['position'].values[0])\n",
    "            work_description.append(text)\n",
    "        except Exception as e:\n",
    "            print(f'ESCEPTION RASED: {e}')\n",
    "            print(f'{(j, i)}')\n",
    "            continue\n",
    "        \n",
    "        # Выделение датасета с инфой по учебе\n",
    "        try:\n",
    "            par=0\n",
    "            data1_fail_edu=pd.json_normalize(data_1[j]['failed_resumes'][i]['educationItem'])\n",
    "            for elem in data1_fail_edu['education_level'].unique():\n",
    "                if elem in education_cr:\n",
    "                    education.append(1)\n",
    "                    par=1\n",
    "                    break\n",
    "            if par==0:\n",
    "                education.append(0)\n",
    "        except Exception as e:\n",
    "            print(f'ESCEPTION RASED (in edu extraction for failed resumes): {e}')\n",
    "            print(f'{(j, i)}')\n",
    "            continue\n",
    "            \n",
    "    data1_fail['education']=pd.Series(education)\n",
    "    data1_fail['average_workout']=pd.Series(average_workout)\n",
    "    data1_fail['employer']=pd.Series(employer)\n",
    "    data1_fail['work_city']=pd.Series(work_city)\n",
    "    data1_fail['work_position']=pd.Series(work_position)\n",
    "    data1_fail['work_description']=pd.Series(work_description)\n",
    "    dataset.append(data1_fail)\n",
    "\n",
    "dataset = pd.concat(dataset)    "
   ]
  },
  {
   "cell_type": "code",
   "execution_count": 164,
   "id": "ca8d9aa9-b7ea-4e68-a682-135cfed32911",
   "metadata": {
    "tags": []
   },
   "outputs": [
    {
     "data": {
      "text/html": [
       "<div>\n",
       "<style scoped>\n",
       "    .dataframe tbody tr th:only-of-type {\n",
       "        vertical-align: middle;\n",
       "    }\n",
       "\n",
       "    .dataframe tbody tr th {\n",
       "        vertical-align: top;\n",
       "    }\n",
       "\n",
       "    .dataframe thead th {\n",
       "        text-align: right;\n",
       "    }\n",
       "</style>\n",
       "<table border=\"1\" class=\"dataframe\">\n",
       "  <thead>\n",
       "    <tr style=\"text-align: right;\">\n",
       "      <th></th>\n",
       "      <th>employer</th>\n",
       "      <th>work_position</th>\n",
       "      <th>work_city</th>\n",
       "    </tr>\n",
       "  </thead>\n",
       "  <tbody>\n",
       "    <tr>\n",
       "      <th>0</th>\n",
       "      <td>ОАО ЭлектроАвтоТяж</td>\n",
       "      <td>java-разработчик</td>\n",
       "      <td>Коломна</td>\n",
       "    </tr>\n",
       "    <tr>\n",
       "      <th>1</th>\n",
       "      <td>ЗАО ГаражХмельРыб</td>\n",
       "      <td>Software Java engineer</td>\n",
       "      <td>Люберцы</td>\n",
       "    </tr>\n",
       "    <tr>\n",
       "      <th>2</th>\n",
       "      <td>ЗАО ГаражРадиоРыбСбыт</td>\n",
       "      <td>Java-разработчик</td>\n",
       "      <td>Шатура</td>\n",
       "    </tr>\n",
       "  </tbody>\n",
       "</table>\n",
       "</div>"
      ],
      "text/plain": [
       "                employer           work_position work_city\n",
       "0     ОАО ЭлектроАвтоТяж        java-разработчик   Коломна\n",
       "1      ЗАО ГаражХмельРыб  Software Java engineer   Люберцы\n",
       "2  ЗАО ГаражРадиоРыбСбыт        Java-разработчик    Шатура"
      ]
     },
     "execution_count": 164,
     "metadata": {},
     "output_type": "execute_result"
    }
   ],
   "source": [
    "dataset[[\"employer\", \"work_position\", \"work_city\"]].iloc[:3]"
   ]
  },
  {
   "cell_type": "code",
   "execution_count": 165,
   "id": "e4232069-242b-4705-8f42-dcc8d8637466",
   "metadata": {
    "tags": []
   },
   "outputs": [
    {
     "data": {
      "text/plain": [
       "' Проекты: Внутренний продукт  а по заказу инструментов разработки для сотрудников; Команда состояла из владельца продукта, аналитика, 4 бэкенд разработчиков, 4 фронтенд разработчиков, 1 тестер. Что делал на проектах: Спроектировал и реализовал новые методы REST API, разрабатывал новый бизнес функционал, исправлял баги; Создавал новые микро-сервисы на SpringBoot, покрыл их тестами и передал пользователям; Покрыл проект юнит-тестами с использованием jUnit, Mockito; Работал в команде, проходил и проводил code-review. Технологии: Java 11, Spring Boot, Hibernate, Spring Data, Spring Security, Maven, Camunda, Postgres, Liquibase, Kafka, jUnit, Mockito, Swagger, Bitbucket  Проекты: Проект по управлению складскими помещениями. Самостоятельно реализовал часть CRM системы для внутреннего и внешнего использования, интеграции с внешними системами, в том числе с таможней, участвовал в реализации функционала на EJB, развертываемым на WildFly; Проект по интеграции call-центра с системой телефонии Avaya с использованием Spring Boot и асинхронного взаимодействия; Проект по хранению и поставке пользовательских данных в межведомственные системы электронного взаимодействия Ленинградской области; Команда состояла из менеджера проекта, 2 бэкенд разработчиков, 1 фронтенд разработчика. Что делал на проектах: Спроектировал и реализовал новые методы REST API, разрабатывал бизнес функционал, исправлял баги; Подключил систему телефонии для сотрудников call-центра при помощи библиотеки jtapi от Avaya; Проработал архитектуру и реализовал интеграционные сервисы на SpringBoot, покрыл их тестами и передал пользователям; Занимался избавлением от legacy кода проекта по шаблонизации CRM что значительно повысило time-to-market; Формировал отчеты различной сложности для пользователей системы с использованием POI и JasperReports; Покрыл проект юнит-тестами с использованием jUnit, Mockito; Работал в команде, проходил и проводил code-review. Технологии: Java 8, Java 11, Spring, Spring Boot, EJB, Tomcat, WildFly, Hibernate, Spring Data, Spring Security, Maven, Postgres, Liquibase, jUnit, Mockito, Swagger, Git, Docker, Github '"
      ]
     },
     "execution_count": 165,
     "metadata": {},
     "output_type": "execute_result"
    }
   ],
   "source": [
    "dataset[\"work_description\"].iloc[0]"
   ]
  },
  {
   "cell_type": "markdown",
   "id": "7148e409-a237-4b58-9eaf-903b44508058",
   "metadata": {},
   "source": [
    "#### Save baseline dataset"
   ]
  },
  {
   "cell_type": "code",
   "execution_count": 198,
   "id": "b06e6ddc-6289-48f8-803f-c2bc55be8898",
   "metadata": {
    "tags": []
   },
   "outputs": [],
   "source": [
    "dataset.to_csv(\"C:\\\\Users\\\\Egor\\\\Projects\\\\Ranking_vacancy\\\\Ml_Hackaton_28-31\\\\data\\\\base_dataset.csv\", index=False)"
   ]
  },
  {
   "cell_type": "code",
   "execution_count": 199,
   "id": "bf85f90f-0aee-4fd4-8c91-35e1e32a37c1",
   "metadata": {
    "tags": []
   },
   "outputs": [],
   "source": [
    "dataset = pd.read_csv(\"C:\\\\Users\\\\Egor\\\\Projects\\\\Ranking_vacancy\\\\Ml_Hackaton_28-31\\\\data\\\\base_dataset.csv\")"
   ]
  },
  {
   "cell_type": "markdown",
   "id": "a857238b-165c-439d-8252-e454314af9b6",
   "metadata": {},
   "source": [
    "# Features processing"
   ]
  },
  {
   "cell_type": "code",
   "execution_count": 200,
   "id": "3915acfb-2898-403d-b03e-aac74484dd0d",
   "metadata": {
    "tags": []
   },
   "outputs": [],
   "source": [
    "# drop useless features\n",
    "cols_to_drop = [\"birth_date\",\"first_name\", \"last_name\", \"country\", \"city\", \"work_city\", \"experienceItem\", \"educationItem\", \"employer\"]\n",
    "dataset = dataset.loc[:, ~dataset.columns.isin(cols_to_drop)]"
   ]
  },
  {
   "cell_type": "code",
   "execution_count": 201,
   "id": "1f9d93a9-5c67-42fe-a292-d7a903d5da9b",
   "metadata": {
    "tags": []
   },
   "outputs": [],
   "source": [
    "# use last work position instead of null in about and key skills columns\n",
    "dataset[\"about\"] = dataset.apply(lambda x: x[\"work_position\"] if x[\"about\"] is None else x[\"about\"], axis=1)\n",
    "dataset[\"key_skills\"] = dataset.apply(lambda x: x[\"work_position\"] if x[\"key_skills\"] is None else x[\"key_skills\"], axis=1)"
   ]
  },
  {
   "cell_type": "code",
   "execution_count": 202,
   "id": "38a48fb3-72b4-47eb-83c3-fd8c031573d4",
   "metadata": {
    "tags": []
   },
   "outputs": [],
   "source": [
    "# fill null values of answer and education with zeros\n",
    "dataset[\"answer\"] = dataset[\"answer\"].fillna(0)\n",
    "dataset[\"education\"] = dataset[\"education\"].fillna(0)"
   ]
  },
  {
   "cell_type": "code",
   "execution_count": 203,
   "id": "b588d344-3029-4cf6-850a-9e99cee97ab3",
   "metadata": {
    "tags": []
   },
   "outputs": [],
   "source": [
    "# merge languageItem amd languageItems\n",
    "dataset[\"languages\"] = dataset.apply(lambda x: 1 if \"Английский\" in str(x[\"languageItem\"]) or \"Английский\" in str(x[\"languageItems\"]) else 0, axis=1)\n",
    "dataset = dataset.drop([\"languageItem\", \"languageItems\"], axis=1)"
   ]
  },
  {
   "cell_type": "code",
   "execution_count": 204,
   "id": "7d910690-ea2c-478d-a42b-786128197d62",
   "metadata": {
    "tags": []
   },
   "outputs": [],
   "source": [
    "dataset.to_csv(\"C:\\\\Users\\\\Egor\\\\Projects\\\\Ranking_vacancy\\\\Ml_Hackaton_28-31\\\\data\\\\df_not_embedding.csv\", index=False)"
   ]
  },
  {
   "cell_type": "code",
   "execution_count": 205,
   "id": "129a0102-fe93-418a-8bf9-03f25652604e",
   "metadata": {
    "tags": []
   },
   "outputs": [
    {
     "data": {
      "text/html": [
       "<div>\n",
       "<style scoped>\n",
       "    .dataframe tbody tr th:only-of-type {\n",
       "        vertical-align: middle;\n",
       "    }\n",
       "\n",
       "    .dataframe tbody tr th {\n",
       "        vertical-align: top;\n",
       "    }\n",
       "\n",
       "    .dataframe thead th {\n",
       "        text-align: right;\n",
       "    }\n",
       "</style>\n",
       "<table border=\"1\" class=\"dataframe\">\n",
       "  <thead>\n",
       "    <tr style=\"text-align: right;\">\n",
       "      <th></th>\n",
       "      <th>uuid</th>\n",
       "      <th>about</th>\n",
       "      <th>key_skills</th>\n",
       "      <th>answer</th>\n",
       "      <th>vacancy_uuid</th>\n",
       "      <th>vacancy_name</th>\n",
       "      <th>vacancy_description</th>\n",
       "      <th>vacancy_comment</th>\n",
       "      <th>education</th>\n",
       "      <th>average_workout</th>\n",
       "      <th>work_position</th>\n",
       "      <th>work_description</th>\n",
       "      <th>languages</th>\n",
       "    </tr>\n",
       "  </thead>\n",
       "  <tbody>\n",
       "    <tr>\n",
       "      <th>0</th>\n",
       "      <td>8c8cf797-2c6b-3f4b-b28b-20d57bd88b82</td>\n",
       "      <td>NaN</td>\n",
       "      <td>Java, Java Spring Framework, Hibernate, Git, P...</td>\n",
       "      <td>1</td>\n",
       "      <td>779f3a59-206a-3241-adc4-d7db504f960b</td>\n",
       "      <td>Java разработчик команда Инвестиции</td>\n",
       "      <td>Описание Мы расширяем команды и ищем разработ...</td>\n",
       "      <td>450 на руки</td>\n",
       "      <td>1.0</td>\n",
       "      <td>1171.000000</td>\n",
       "      <td>java-разработчик</td>\n",
       "      <td>Проекты: Внутренний продукт  а по заказу инст...</td>\n",
       "      <td>0</td>\n",
       "    </tr>\n",
       "    <tr>\n",
       "      <th>1</th>\n",
       "      <td>74221d62-5ea6-3a68-8849-25acd97e208b</td>\n",
       "      <td>NaN</td>\n",
       "      <td>MATLAB, Java, Android SDK, Design Patterns, Ec...</td>\n",
       "      <td>1</td>\n",
       "      <td>779f3a59-206a-3241-adc4-d7db504f960b</td>\n",
       "      <td>Java разработчик команда Инвестиции</td>\n",
       "      <td>Описание Мы расширяем команды и ищем разработ...</td>\n",
       "      <td>450 на руки</td>\n",
       "      <td>1.0</td>\n",
       "      <td>1548.666667</td>\n",
       "      <td>Software Java engineer</td>\n",
       "      <td>Development and testing (unit and integration...</td>\n",
       "      <td>1</td>\n",
       "    </tr>\n",
       "    <tr>\n",
       "      <th>2</th>\n",
       "      <td>9d7eae36-11f8-3cac-9cb2-4cb0ff9d0ae7</td>\n",
       "      <td>Усидчивый и терпеливый программист, обладающи...</td>\n",
       "      <td>Java – 17, Spring Boot 2.7, Liquibase, Spring ...</td>\n",
       "      <td>1</td>\n",
       "      <td>779f3a59-206a-3241-adc4-d7db504f960b</td>\n",
       "      <td>Java разработчик команда Инвестиции</td>\n",
       "      <td>Описание Мы расширяем команды и ищем разработ...</td>\n",
       "      <td>450 на руки</td>\n",
       "      <td>1.0</td>\n",
       "      <td>1197.000000</td>\n",
       "      <td>Java-разработчик</td>\n",
       "      <td>Проект: ДБО в команду ведение счета. Задачи: ...</td>\n",
       "      <td>0</td>\n",
       "    </tr>\n",
       "    <tr>\n",
       "      <th>3</th>\n",
       "      <td>da4c44dd-7c00-3f75-98b4-096b533488a4</td>\n",
       "      <td>Занимаюсь разработкой бекенда и фронтенда веб...</td>\n",
       "      <td>Kotlin, TypeScript, Java, Vue.js, Spring Boot,...</td>\n",
       "      <td>1</td>\n",
       "      <td>779f3a59-206a-3241-adc4-d7db504f960b</td>\n",
       "      <td>Java разработчик команда Инвестиции</td>\n",
       "      <td>Описание Мы расширяем команды и ищем разработ...</td>\n",
       "      <td>450 на руки</td>\n",
       "      <td>1.0</td>\n",
       "      <td>1505.500000</td>\n",
       "      <td>Наставник</td>\n",
       "      <td>Обязанности Разработка и проектирование систе...</td>\n",
       "      <td>0</td>\n",
       "    </tr>\n",
       "    <tr>\n",
       "      <th>4</th>\n",
       "      <td>73d59615-b5b2-35fd-a15d-28963fe143d1</td>\n",
       "      <td>Интересны продуктовые проекты с упором на про...</td>\n",
       "      <td>Java, PostgreSQL, Hibernate, Java Spring Frame...</td>\n",
       "      <td>1</td>\n",
       "      <td>779f3a59-206a-3241-adc4-d7db504f960b</td>\n",
       "      <td>Java разработчик команда Инвестиции</td>\n",
       "      <td>Описание Мы расширяем команды и ищем разработ...</td>\n",
       "      <td>450 на руки</td>\n",
       "      <td>1.0</td>\n",
       "      <td>469.666667</td>\n",
       "      <td>Teamlead</td>\n",
       "      <td>Кредитный калькулятор юридических лиц Профили...</td>\n",
       "      <td>0</td>\n",
       "    </tr>\n",
       "  </tbody>\n",
       "</table>\n",
       "</div>"
      ],
      "text/plain": [
       "                                   uuid  \\\n",
       "0  8c8cf797-2c6b-3f4b-b28b-20d57bd88b82   \n",
       "1  74221d62-5ea6-3a68-8849-25acd97e208b   \n",
       "2  9d7eae36-11f8-3cac-9cb2-4cb0ff9d0ae7   \n",
       "3  da4c44dd-7c00-3f75-98b4-096b533488a4   \n",
       "4  73d59615-b5b2-35fd-a15d-28963fe143d1   \n",
       "\n",
       "                                               about  \\\n",
       "0                                                NaN   \n",
       "1                                                NaN   \n",
       "2   Усидчивый и терпеливый программист, обладающи...   \n",
       "3   Занимаюсь разработкой бекенда и фронтенда веб...   \n",
       "4   Интересны продуктовые проекты с упором на про...   \n",
       "\n",
       "                                          key_skills  answer  \\\n",
       "0  Java, Java Spring Framework, Hibernate, Git, P...       1   \n",
       "1  MATLAB, Java, Android SDK, Design Patterns, Ec...       1   \n",
       "2  Java – 17, Spring Boot 2.7, Liquibase, Spring ...       1   \n",
       "3  Kotlin, TypeScript, Java, Vue.js, Spring Boot,...       1   \n",
       "4  Java, PostgreSQL, Hibernate, Java Spring Frame...       1   \n",
       "\n",
       "                           vacancy_uuid                         vacancy_name  \\\n",
       "0  779f3a59-206a-3241-adc4-d7db504f960b  Java разработчик команда Инвестиции   \n",
       "1  779f3a59-206a-3241-adc4-d7db504f960b  Java разработчик команда Инвестиции   \n",
       "2  779f3a59-206a-3241-adc4-d7db504f960b  Java разработчик команда Инвестиции   \n",
       "3  779f3a59-206a-3241-adc4-d7db504f960b  Java разработчик команда Инвестиции   \n",
       "4  779f3a59-206a-3241-adc4-d7db504f960b  Java разработчик команда Инвестиции   \n",
       "\n",
       "                                 vacancy_description vacancy_comment  \\\n",
       "0   Описание Мы расширяем команды и ищем разработ...     450 на руки   \n",
       "1   Описание Мы расширяем команды и ищем разработ...     450 на руки   \n",
       "2   Описание Мы расширяем команды и ищем разработ...     450 на руки   \n",
       "3   Описание Мы расширяем команды и ищем разработ...     450 на руки   \n",
       "4   Описание Мы расширяем команды и ищем разработ...     450 на руки   \n",
       "\n",
       "   education  average_workout           work_position  \\\n",
       "0        1.0      1171.000000        java-разработчик   \n",
       "1        1.0      1548.666667  Software Java engineer   \n",
       "2        1.0      1197.000000        Java-разработчик   \n",
       "3        1.0      1505.500000               Наставник   \n",
       "4        1.0       469.666667                Teamlead   \n",
       "\n",
       "                                    work_description  languages  \n",
       "0   Проекты: Внутренний продукт  а по заказу инст...          0  \n",
       "1   Development and testing (unit and integration...          1  \n",
       "2   Проект: ДБО в команду ведение счета. Задачи: ...          0  \n",
       "3   Обязанности Разработка и проектирование систе...          0  \n",
       "4   Кредитный калькулятор юридических лиц Профили...          0  "
      ]
     },
     "execution_count": 205,
     "metadata": {},
     "output_type": "execute_result"
    }
   ],
   "source": [
    "dataset.head()"
   ]
  },
  {
   "cell_type": "code",
   "execution_count": 206,
   "id": "8135ec0a-115c-42e9-952d-7ea13f072b72",
   "metadata": {},
   "outputs": [
    {
     "name": "stdout",
     "output_type": "stream",
     "text": [
      "<class 'pandas.core.frame.DataFrame'>\n",
      "RangeIndex: 656 entries, 0 to 655\n",
      "Data columns (total 13 columns):\n",
      " #   Column               Non-Null Count  Dtype  \n",
      "---  ------               --------------  -----  \n",
      " 0   uuid                 656 non-null    object \n",
      " 1   about                277 non-null    object \n",
      " 2   key_skills           603 non-null    object \n",
      " 3   answer               656 non-null    int64  \n",
      " 4   vacancy_uuid         656 non-null    object \n",
      " 5   vacancy_name         656 non-null    object \n",
      " 6   vacancy_description  656 non-null    object \n",
      " 7   vacancy_comment      67 non-null     object \n",
      " 8   education            656 non-null    float64\n",
      " 9   average_workout      655 non-null    float64\n",
      " 10  work_position        655 non-null    object \n",
      " 11  work_description     655 non-null    object \n",
      " 12  languages            656 non-null    int64  \n",
      "dtypes: float64(2), int64(2), object(9)\n",
      "memory usage: 66.8+ KB\n"
     ]
    }
   ],
   "source": [
    "dataset.info()"
   ]
  },
  {
   "cell_type": "code",
   "execution_count": 223,
   "id": "4ff6e1ae-c887-438e-968b-9b3190212cdf",
   "metadata": {
    "tags": []
   },
   "outputs": [
    {
     "data": {
      "text/plain": [
       "0      nanJava, Java Spring Framework, Hibernate, Git...\n",
       "1      nanMATLAB, Java, Android SDK, Design Patterns,...\n",
       "2       Усидчивый и терпеливый программист, обладающи...\n",
       "3       Занимаюсь разработкой бекенда и фронтенда веб...\n",
       "4       Интересны продуктовые проекты с упором на про...\n",
       "                             ...                        \n",
       "651    nanJavaScript, Vue.js, Vuex, Nuxt.js, REST API...\n",
       "652    nanJavaScript, TypeScript, Vue.js, Nuxt.js, Vu...\n",
       "653    Привет! Меня зовут Дамир. Я Frontend разработч...\n",
       "654    nanJavaScript, TypeScript, Vue, Nuxt.js, React...\n",
       "655    НАВЫКИ / ОПЫТ • Владение HTML, CSS и JavaScrip...\n",
       "Length: 656, dtype: object"
      ]
     },
     "execution_count": 223,
     "metadata": {},
     "output_type": "execute_result"
    }
   ],
   "source": [
    "dataset.apply(\n",
    "    lambda x: (str(x[\"about\"]) + str(x[\"key_skills\"]) + str(x[\"work_position\"]) + str(x[\"work_description\"]))[:1000], axis=1\n",
    ")"
   ]
  },
  {
   "cell_type": "code",
   "execution_count": null,
   "id": "a7f0da57-582f-4672-9740-1ef3cd89dffa",
   "metadata": {},
   "outputs": [],
   "source": []
  },
  {
   "cell_type": "code",
   "execution_count": null,
   "id": "c19aa9a0-e33a-48c0-bd73-cd6e5a9363b9",
   "metadata": {},
   "outputs": [],
   "source": []
  }
 ],
 "metadata": {
  "kernelspec": {
   "display_name": "Python 3 (ipykernel)",
   "language": "python",
   "name": "python3"
  },
  "language_info": {
   "codemirror_mode": {
    "name": "ipython",
    "version": 3
   },
   "file_extension": ".py",
   "mimetype": "text/x-python",
   "name": "python",
   "nbconvert_exporter": "python",
   "pygments_lexer": "ipython3",
   "version": "3.9.18"
  }
 },
 "nbformat": 4,
 "nbformat_minor": 5
}
